{
  "nbformat": 4,
  "nbformat_minor": 0,
  "metadata": {
    "colab": {
      "provenance": [],
      "gpuType": "T4"
    },
    "kernelspec": {
      "name": "python3",
      "display_name": "Python 3"
    },
    "language_info": {
      "name": "python"
    },
    "accelerator": "GPU"
  },
  "cells": [
    {
      "cell_type": "markdown",
      "source": [
        "# Carregar e Limpar dados ausentes e duplicados"
      ],
      "metadata": {
        "id": "EDEPLAuw2C8R"
      }
    },
    {
      "cell_type": "markdown",
      "source": [
        "[Dataset utilizado](https://www.kaggle.com/datasets/mdhamani/goodreads-books-100k/data?select=GoodReads_100k_books.csv)"
      ],
      "metadata": {
        "id": "rjMAAM9B7EZm"
      }
    },
    {
      "cell_type": "markdown",
      "source": [
        "Carregando"
      ],
      "metadata": {
        "id": "3u9L-Jci2J3T"
      }
    },
    {
      "cell_type": "code",
      "source": [
        "import pandas as pd\n",
        "import numpy as np"
      ],
      "metadata": {
        "id": "rNsvZIEl9sPg"
      },
      "execution_count": 1,
      "outputs": []
    },
    {
      "cell_type": "code",
      "source": [
        "# Tentar carregar o dataset, ignorando as linhas problemáticas\n",
        "df = pd.read_csv('/content/GoodReads_100k_books.csv', engine='python', on_bad_lines='skip')\n",
        "\n",
        "# Verificar se todas as linhas foram carregadas corretamente\n",
        "print(f\"Número de linhas carregadas: {df.shape[0]}\")\n",
        "\n",
        "# Exibir as primeiras linhas do DataFrame\n",
        "df.head()\n"
      ],
      "metadata": {
        "colab": {
          "base_uri": "https://localhost:8080/",
          "height": 556
        },
        "id": "EWPz7raLEDyF",
        "outputId": "0b259bf4-ff65-436a-b187-593368ca04e0"
      },
      "execution_count": 2,
      "outputs": [
        {
          "output_type": "stream",
          "name": "stdout",
          "text": [
            "Número de linhas carregadas: 45211\n"
          ]
        },
        {
          "output_type": "execute_result",
          "data": {
            "text/plain": [
              "                             author bookformat  \\\n",
              "0              Laurence M. Hauptman  Hardcover   \n",
              "1  Charlotte Fiell,Emmanuelle Dirix  Paperback   \n",
              "2                     Andy Anderson  Paperback   \n",
              "3              Carlotta R. Anderson  Hardcover   \n",
              "4                     Jean Leveille        NaN   \n",
              "\n",
              "                                                desc  \\\n",
              "0  Reveals that several hundred thousand Indians ...   \n",
              "1  Fashion Sourcebook - 1920s is the first book i...   \n",
              "2  The seminal history and analysis of the Hungar...   \n",
              "3  \"All-American Anarchist\" chronicles the life a...   \n",
              "4  Aujourdâ€™hui, lâ€™oiseau nous invite Ã  sa ta...   \n",
              "\n",
              "                                               genre  \\\n",
              "0  History,Military History,Civil War,American Hi...   \n",
              "1          Couture,Fashion,Historical,Art,Nonfiction   \n",
              "2                                   Politics,History   \n",
              "3                                      Labor,History   \n",
              "4                                                NaN   \n",
              "\n",
              "                                                 img        isbn    isbn13  \\\n",
              "0  https://i.gr-assets.com/images/S/compressed.ph...  002914180X  9.78E+12   \n",
              "1  https://i.gr-assets.com/images/S/compressed.ph...  1906863482  9.78E+12   \n",
              "2  https://i.gr-assets.com/images/S/compressed.ph...   948984147  9.78E+12   \n",
              "3  https://i.gr-assets.com/images/S/compressed.ph...   814327079  9.78E+12   \n",
              "4  https://i.gr-assets.com/images/S/compressed.ph...  2761920813       NaN   \n",
              "\n",
              "                                                link  pages  rating  reviews  \\\n",
              "0  https://goodreads.com/book/show/1001053.Betwee...      0    3.52        5   \n",
              "1  https://goodreads.com/book/show/10010552-fashi...    576    4.51        6   \n",
              "2  https://goodreads.com/book/show/1001077.Hungar...    124    4.15        2   \n",
              "3  https://goodreads.com/book/show/1001079.All_Am...    324    3.83        1   \n",
              "4  https://goodreads.com/book/show/10010880-les-o...    177    4.00        1   \n",
              "\n",
              "                                               title  totalratings  \n",
              "0  Between Two Fires: American Indians in the Civ...            33  \n",
              "1                           Fashion Sourcebook 1920s            41  \n",
              "2                                         Hungary 56            26  \n",
              "3  All-American Anarchist: Joseph A. Labadie and ...             6  \n",
              "4                              Les oiseaux gourmands             1  "
            ],
            "text/html": [
              "\n",
              "  <div id=\"df-1c4fc13c-89be-4b86-b0c8-ffb65554b9b9\" class=\"colab-df-container\">\n",
              "    <div>\n",
              "<style scoped>\n",
              "    .dataframe tbody tr th:only-of-type {\n",
              "        vertical-align: middle;\n",
              "    }\n",
              "\n",
              "    .dataframe tbody tr th {\n",
              "        vertical-align: top;\n",
              "    }\n",
              "\n",
              "    .dataframe thead th {\n",
              "        text-align: right;\n",
              "    }\n",
              "</style>\n",
              "<table border=\"1\" class=\"dataframe\">\n",
              "  <thead>\n",
              "    <tr style=\"text-align: right;\">\n",
              "      <th></th>\n",
              "      <th>author</th>\n",
              "      <th>bookformat</th>\n",
              "      <th>desc</th>\n",
              "      <th>genre</th>\n",
              "      <th>img</th>\n",
              "      <th>isbn</th>\n",
              "      <th>isbn13</th>\n",
              "      <th>link</th>\n",
              "      <th>pages</th>\n",
              "      <th>rating</th>\n",
              "      <th>reviews</th>\n",
              "      <th>title</th>\n",
              "      <th>totalratings</th>\n",
              "    </tr>\n",
              "  </thead>\n",
              "  <tbody>\n",
              "    <tr>\n",
              "      <th>0</th>\n",
              "      <td>Laurence M. Hauptman</td>\n",
              "      <td>Hardcover</td>\n",
              "      <td>Reveals that several hundred thousand Indians ...</td>\n",
              "      <td>History,Military History,Civil War,American Hi...</td>\n",
              "      <td>https://i.gr-assets.com/images/S/compressed.ph...</td>\n",
              "      <td>002914180X</td>\n",
              "      <td>9.78E+12</td>\n",
              "      <td>https://goodreads.com/book/show/1001053.Betwee...</td>\n",
              "      <td>0</td>\n",
              "      <td>3.52</td>\n",
              "      <td>5</td>\n",
              "      <td>Between Two Fires: American Indians in the Civ...</td>\n",
              "      <td>33</td>\n",
              "    </tr>\n",
              "    <tr>\n",
              "      <th>1</th>\n",
              "      <td>Charlotte Fiell,Emmanuelle Dirix</td>\n",
              "      <td>Paperback</td>\n",
              "      <td>Fashion Sourcebook - 1920s is the first book i...</td>\n",
              "      <td>Couture,Fashion,Historical,Art,Nonfiction</td>\n",
              "      <td>https://i.gr-assets.com/images/S/compressed.ph...</td>\n",
              "      <td>1906863482</td>\n",
              "      <td>9.78E+12</td>\n",
              "      <td>https://goodreads.com/book/show/10010552-fashi...</td>\n",
              "      <td>576</td>\n",
              "      <td>4.51</td>\n",
              "      <td>6</td>\n",
              "      <td>Fashion Sourcebook 1920s</td>\n",
              "      <td>41</td>\n",
              "    </tr>\n",
              "    <tr>\n",
              "      <th>2</th>\n",
              "      <td>Andy Anderson</td>\n",
              "      <td>Paperback</td>\n",
              "      <td>The seminal history and analysis of the Hungar...</td>\n",
              "      <td>Politics,History</td>\n",
              "      <td>https://i.gr-assets.com/images/S/compressed.ph...</td>\n",
              "      <td>948984147</td>\n",
              "      <td>9.78E+12</td>\n",
              "      <td>https://goodreads.com/book/show/1001077.Hungar...</td>\n",
              "      <td>124</td>\n",
              "      <td>4.15</td>\n",
              "      <td>2</td>\n",
              "      <td>Hungary 56</td>\n",
              "      <td>26</td>\n",
              "    </tr>\n",
              "    <tr>\n",
              "      <th>3</th>\n",
              "      <td>Carlotta R. Anderson</td>\n",
              "      <td>Hardcover</td>\n",
              "      <td>\"All-American Anarchist\" chronicles the life a...</td>\n",
              "      <td>Labor,History</td>\n",
              "      <td>https://i.gr-assets.com/images/S/compressed.ph...</td>\n",
              "      <td>814327079</td>\n",
              "      <td>9.78E+12</td>\n",
              "      <td>https://goodreads.com/book/show/1001079.All_Am...</td>\n",
              "      <td>324</td>\n",
              "      <td>3.83</td>\n",
              "      <td>1</td>\n",
              "      <td>All-American Anarchist: Joseph A. Labadie and ...</td>\n",
              "      <td>6</td>\n",
              "    </tr>\n",
              "    <tr>\n",
              "      <th>4</th>\n",
              "      <td>Jean Leveille</td>\n",
              "      <td>NaN</td>\n",
              "      <td>Aujourdâ€™hui, lâ€™oiseau nous invite Ã  sa ta...</td>\n",
              "      <td>NaN</td>\n",
              "      <td>https://i.gr-assets.com/images/S/compressed.ph...</td>\n",
              "      <td>2761920813</td>\n",
              "      <td>NaN</td>\n",
              "      <td>https://goodreads.com/book/show/10010880-les-o...</td>\n",
              "      <td>177</td>\n",
              "      <td>4.00</td>\n",
              "      <td>1</td>\n",
              "      <td>Les oiseaux gourmands</td>\n",
              "      <td>1</td>\n",
              "    </tr>\n",
              "  </tbody>\n",
              "</table>\n",
              "</div>\n",
              "    <div class=\"colab-df-buttons\">\n",
              "\n",
              "  <div class=\"colab-df-container\">\n",
              "    <button class=\"colab-df-convert\" onclick=\"convertToInteractive('df-1c4fc13c-89be-4b86-b0c8-ffb65554b9b9')\"\n",
              "            title=\"Convert this dataframe to an interactive table.\"\n",
              "            style=\"display:none;\">\n",
              "\n",
              "  <svg xmlns=\"http://www.w3.org/2000/svg\" height=\"24px\" viewBox=\"0 -960 960 960\">\n",
              "    <path d=\"M120-120v-720h720v720H120Zm60-500h600v-160H180v160Zm220 220h160v-160H400v160Zm0 220h160v-160H400v160ZM180-400h160v-160H180v160Zm440 0h160v-160H620v160ZM180-180h160v-160H180v160Zm440 0h160v-160H620v160Z\"/>\n",
              "  </svg>\n",
              "    </button>\n",
              "\n",
              "  <style>\n",
              "    .colab-df-container {\n",
              "      display:flex;\n",
              "      gap: 12px;\n",
              "    }\n",
              "\n",
              "    .colab-df-convert {\n",
              "      background-color: #E8F0FE;\n",
              "      border: none;\n",
              "      border-radius: 50%;\n",
              "      cursor: pointer;\n",
              "      display: none;\n",
              "      fill: #1967D2;\n",
              "      height: 32px;\n",
              "      padding: 0 0 0 0;\n",
              "      width: 32px;\n",
              "    }\n",
              "\n",
              "    .colab-df-convert:hover {\n",
              "      background-color: #E2EBFA;\n",
              "      box-shadow: 0px 1px 2px rgba(60, 64, 67, 0.3), 0px 1px 3px 1px rgba(60, 64, 67, 0.15);\n",
              "      fill: #174EA6;\n",
              "    }\n",
              "\n",
              "    .colab-df-buttons div {\n",
              "      margin-bottom: 4px;\n",
              "    }\n",
              "\n",
              "    [theme=dark] .colab-df-convert {\n",
              "      background-color: #3B4455;\n",
              "      fill: #D2E3FC;\n",
              "    }\n",
              "\n",
              "    [theme=dark] .colab-df-convert:hover {\n",
              "      background-color: #434B5C;\n",
              "      box-shadow: 0px 1px 3px 1px rgba(0, 0, 0, 0.15);\n",
              "      filter: drop-shadow(0px 1px 2px rgba(0, 0, 0, 0.3));\n",
              "      fill: #FFFFFF;\n",
              "    }\n",
              "  </style>\n",
              "\n",
              "    <script>\n",
              "      const buttonEl =\n",
              "        document.querySelector('#df-1c4fc13c-89be-4b86-b0c8-ffb65554b9b9 button.colab-df-convert');\n",
              "      buttonEl.style.display =\n",
              "        google.colab.kernel.accessAllowed ? 'block' : 'none';\n",
              "\n",
              "      async function convertToInteractive(key) {\n",
              "        const element = document.querySelector('#df-1c4fc13c-89be-4b86-b0c8-ffb65554b9b9');\n",
              "        const dataTable =\n",
              "          await google.colab.kernel.invokeFunction('convertToInteractive',\n",
              "                                                    [key], {});\n",
              "        if (!dataTable) return;\n",
              "\n",
              "        const docLinkHtml = 'Like what you see? Visit the ' +\n",
              "          '<a target=\"_blank\" href=https://colab.research.google.com/notebooks/data_table.ipynb>data table notebook</a>'\n",
              "          + ' to learn more about interactive tables.';\n",
              "        element.innerHTML = '';\n",
              "        dataTable['output_type'] = 'display_data';\n",
              "        await google.colab.output.renderOutput(dataTable, element);\n",
              "        const docLink = document.createElement('div');\n",
              "        docLink.innerHTML = docLinkHtml;\n",
              "        element.appendChild(docLink);\n",
              "      }\n",
              "    </script>\n",
              "  </div>\n",
              "\n",
              "\n",
              "<div id=\"df-d4535877-9160-4e92-9271-0cd42e87ab0c\">\n",
              "  <button class=\"colab-df-quickchart\" onclick=\"quickchart('df-d4535877-9160-4e92-9271-0cd42e87ab0c')\"\n",
              "            title=\"Suggest charts\"\n",
              "            style=\"display:none;\">\n",
              "\n",
              "<svg xmlns=\"http://www.w3.org/2000/svg\" height=\"24px\"viewBox=\"0 0 24 24\"\n",
              "     width=\"24px\">\n",
              "    <g>\n",
              "        <path d=\"M19 3H5c-1.1 0-2 .9-2 2v14c0 1.1.9 2 2 2h14c1.1 0 2-.9 2-2V5c0-1.1-.9-2-2-2zM9 17H7v-7h2v7zm4 0h-2V7h2v10zm4 0h-2v-4h2v4z\"/>\n",
              "    </g>\n",
              "</svg>\n",
              "  </button>\n",
              "\n",
              "<style>\n",
              "  .colab-df-quickchart {\n",
              "      --bg-color: #E8F0FE;\n",
              "      --fill-color: #1967D2;\n",
              "      --hover-bg-color: #E2EBFA;\n",
              "      --hover-fill-color: #174EA6;\n",
              "      --disabled-fill-color: #AAA;\n",
              "      --disabled-bg-color: #DDD;\n",
              "  }\n",
              "\n",
              "  [theme=dark] .colab-df-quickchart {\n",
              "      --bg-color: #3B4455;\n",
              "      --fill-color: #D2E3FC;\n",
              "      --hover-bg-color: #434B5C;\n",
              "      --hover-fill-color: #FFFFFF;\n",
              "      --disabled-bg-color: #3B4455;\n",
              "      --disabled-fill-color: #666;\n",
              "  }\n",
              "\n",
              "  .colab-df-quickchart {\n",
              "    background-color: var(--bg-color);\n",
              "    border: none;\n",
              "    border-radius: 50%;\n",
              "    cursor: pointer;\n",
              "    display: none;\n",
              "    fill: var(--fill-color);\n",
              "    height: 32px;\n",
              "    padding: 0;\n",
              "    width: 32px;\n",
              "  }\n",
              "\n",
              "  .colab-df-quickchart:hover {\n",
              "    background-color: var(--hover-bg-color);\n",
              "    box-shadow: 0 1px 2px rgba(60, 64, 67, 0.3), 0 1px 3px 1px rgba(60, 64, 67, 0.15);\n",
              "    fill: var(--button-hover-fill-color);\n",
              "  }\n",
              "\n",
              "  .colab-df-quickchart-complete:disabled,\n",
              "  .colab-df-quickchart-complete:disabled:hover {\n",
              "    background-color: var(--disabled-bg-color);\n",
              "    fill: var(--disabled-fill-color);\n",
              "    box-shadow: none;\n",
              "  }\n",
              "\n",
              "  .colab-df-spinner {\n",
              "    border: 2px solid var(--fill-color);\n",
              "    border-color: transparent;\n",
              "    border-bottom-color: var(--fill-color);\n",
              "    animation:\n",
              "      spin 1s steps(1) infinite;\n",
              "  }\n",
              "\n",
              "  @keyframes spin {\n",
              "    0% {\n",
              "      border-color: transparent;\n",
              "      border-bottom-color: var(--fill-color);\n",
              "      border-left-color: var(--fill-color);\n",
              "    }\n",
              "    20% {\n",
              "      border-color: transparent;\n",
              "      border-left-color: var(--fill-color);\n",
              "      border-top-color: var(--fill-color);\n",
              "    }\n",
              "    30% {\n",
              "      border-color: transparent;\n",
              "      border-left-color: var(--fill-color);\n",
              "      border-top-color: var(--fill-color);\n",
              "      border-right-color: var(--fill-color);\n",
              "    }\n",
              "    40% {\n",
              "      border-color: transparent;\n",
              "      border-right-color: var(--fill-color);\n",
              "      border-top-color: var(--fill-color);\n",
              "    }\n",
              "    60% {\n",
              "      border-color: transparent;\n",
              "      border-right-color: var(--fill-color);\n",
              "    }\n",
              "    80% {\n",
              "      border-color: transparent;\n",
              "      border-right-color: var(--fill-color);\n",
              "      border-bottom-color: var(--fill-color);\n",
              "    }\n",
              "    90% {\n",
              "      border-color: transparent;\n",
              "      border-bottom-color: var(--fill-color);\n",
              "    }\n",
              "  }\n",
              "</style>\n",
              "\n",
              "  <script>\n",
              "    async function quickchart(key) {\n",
              "      const quickchartButtonEl =\n",
              "        document.querySelector('#' + key + ' button');\n",
              "      quickchartButtonEl.disabled = true;  // To prevent multiple clicks.\n",
              "      quickchartButtonEl.classList.add('colab-df-spinner');\n",
              "      try {\n",
              "        const charts = await google.colab.kernel.invokeFunction(\n",
              "            'suggestCharts', [key], {});\n",
              "      } catch (error) {\n",
              "        console.error('Error during call to suggestCharts:', error);\n",
              "      }\n",
              "      quickchartButtonEl.classList.remove('colab-df-spinner');\n",
              "      quickchartButtonEl.classList.add('colab-df-quickchart-complete');\n",
              "    }\n",
              "    (() => {\n",
              "      let quickchartButtonEl =\n",
              "        document.querySelector('#df-d4535877-9160-4e92-9271-0cd42e87ab0c button');\n",
              "      quickchartButtonEl.style.display =\n",
              "        google.colab.kernel.accessAllowed ? 'block' : 'none';\n",
              "    })();\n",
              "  </script>\n",
              "</div>\n",
              "\n",
              "    </div>\n",
              "  </div>\n"
            ],
            "application/vnd.google.colaboratory.intrinsic+json": {
              "type": "dataframe",
              "variable_name": "df",
              "summary": "{\n  \"name\": \"df\",\n  \"rows\": 45211,\n  \"fields\": [\n    {\n      \"column\": \"author\",\n      \"properties\": {\n        \"dtype\": \"string\",\n        \"num_unique_values\": 34491,\n        \"samples\": [\n          \"Ralph A. Austen\",\n          \"Helen  Douglas\",\n          \"Balmer H. Kelly\"\n        ],\n        \"semantic_type\": \"\",\n        \"description\": \"\"\n      }\n    },\n    {\n      \"column\": \"bookformat\",\n      \"properties\": {\n        \"dtype\": \"category\",\n        \"num_unique_values\": 123,\n        \"samples\": [\n          \"Boxed Set\",\n          \"Cards\",\n          \"B\\u00c3\\u00aca m\\u00e1\\u00bb\\u0081m\"\n        ],\n        \"semantic_type\": \"\",\n        \"description\": \"\"\n      }\n    },\n    {\n      \"column\": \"desc\",\n      \"properties\": {\n        \"dtype\": \"string\",\n        \"num_unique_values\": 41869,\n        \"samples\": [\n          \"Marjorie Fordham is just itching to sign up the hottest author in the world into her quaint little publishing house. Well, she\\u00e2\\u20ac\\u2122s also itching for other things, to be honest. So what if she finds the author attractive? And so what if he makes an offer she cannot refuse? So what if she accepts? And so what if David J. Seton is everything she has ever wanted in a man? He is a Dominant male with some ulterior motives up his sleeve, something that both terrifies and excites our feisty, independent, love-is-for-needy-chicks-and-not-for-me heroine. She has entered a world of Domination and submission, one she cannot free herself from, no matter how hard she tries to fight it.\",\n          \"Museum exhibition catalog of traditional Ukrainian material culture. \\\"Ukrainian folk art's most outstanding feature is its ornamentation - individual motifs applied using various techniques (weaving, embroidering, painting, applique, engraving, carving, embossing) and different media (textiles, leather, wood, clay, eggs, metal, and even dough). Beneath the designs lie deeper meanings suffused with the mystery, sacredness, and ritual in whose power people once profoundly believed. The motifs, which date back to ancient times, were signs, symbols, or codes that had cosmic, religious, ritualistic and magical significance. The book describes in detail each of the three motifs mentioned in the title in three separate essays, and contains full color photographs of 115 objects from the exhibition.\\\" - Publisher.\",\n          \"A fascinating examination of a variety of female archetypes, from seductress to warrior, as represented in more than 90 paintings, prints, drawings, sculptures and decorative-arts pieces from the Renaissance and Baroque periods.\"\n        ],\n        \"semantic_type\": \"\",\n        \"description\": \"\"\n      }\n    },\n    {\n      \"column\": \"genre\",\n      \"properties\": {\n        \"dtype\": \"string\",\n        \"num_unique_values\": 34445,\n        \"samples\": [\n          \"Romance,M M Romance,Fantasy,Paranormal,Paranormal,Shapeshifters,Romance,Fantasy,Fantasy,Magic,M M Romance,M M Paranormal,Adult Fiction,Erotica,LGBT,Gay,LGBT\",\n          \"Fiction,Historical,Historical Fiction,Mystery,Thriller,Historical,Spy Thriller,Espionage,War,Novels,European Literature,British Literature,Contemporary\",\n          \"Sequential Art,Comics,Sequential Art,Graphic Novels,Superheroes,Marvel,Comics,Comic Book,Mystery,Crime,Graphic Novels Comics,Comics,Superheroes,Fiction,Action,War\"\n        ],\n        \"semantic_type\": \"\",\n        \"description\": \"\"\n      }\n    },\n    {\n      \"column\": \"img\",\n      \"properties\": {\n        \"dtype\": \"string\",\n        \"num_unique_values\": 43873,\n        \"samples\": [\n          \"https://i.gr-assets.com/images/S/compressed.photo.goodreads.com/books/1388253784l/10387.jpg\",\n          \"https://i.gr-assets.com/images/S/compressed.photo.goodreads.com/books/1347100088l/11490615.jpg\",\n          \"https://i.gr-assets.com/images/S/compressed.photo.goodreads.com/books/1312315618l/12255889.jpg\"\n        ],\n        \"semantic_type\": \"\",\n        \"description\": \"\"\n      }\n    },\n    {\n      \"column\": \"isbn\",\n      \"properties\": {\n        \"dtype\": \"string\",\n        \"num_unique_values\": 39582,\n        \"samples\": [\n          \"553445928\",\n          \"330396072\",\n          \"1402721838\"\n        ],\n        \"semantic_type\": \"\",\n        \"description\": \"\"\n      }\n    },\n    {\n      \"column\": \"isbn13\",\n      \"properties\": {\n        \"dtype\": \"category\",\n        \"num_unique_values\": 106,\n        \"samples\": [\n          \"8987027553\",\n          \"9.88E+12\",\n          \"6.40E+11\"\n        ],\n        \"semantic_type\": \"\",\n        \"description\": \"\"\n      }\n    },\n    {\n      \"column\": \"link\",\n      \"properties\": {\n        \"dtype\": \"string\",\n        \"num_unique_values\": 45211,\n        \"samples\": [\n          \"https://goodreads.com/book/show/10262901-cheeky\",\n          \"https://goodreads.com/book/show/106547.The_Dangerous_Lord\",\n          \"https://goodreads.com/book/show/1233859.The_Door\"\n        ],\n        \"semantic_type\": \"\",\n        \"description\": \"\"\n      }\n    },\n    {\n      \"column\": \"pages\",\n      \"properties\": {\n        \"dtype\": \"number\",\n        \"std\": 468,\n        \"min\": 0,\n        \"max\": 70000,\n        \"num_unique_values\": 1130,\n        \"samples\": [\n          411,\n          629,\n          734\n        ],\n        \"semantic_type\": \"\",\n        \"description\": \"\"\n      }\n    },\n    {\n      \"column\": \"rating\",\n      \"properties\": {\n        \"dtype\": \"number\",\n        \"std\": 0.5821220338962888,\n        \"min\": 0.0,\n        \"max\": 5.0,\n        \"num_unique_values\": 270,\n        \"samples\": [\n          4.29,\n          4.45,\n          4.42\n        ],\n        \"semantic_type\": \"\",\n        \"description\": \"\"\n      }\n    },\n    {\n      \"column\": \"reviews\",\n      \"properties\": {\n        \"dtype\": \"number\",\n        \"std\": 1499,\n        \"min\": 0,\n        \"max\": 158776,\n        \"num_unique_values\": 1962,\n        \"samples\": [\n          11313,\n          172,\n          5523\n        ],\n        \"semantic_type\": \"\",\n        \"description\": \"\"\n      }\n    },\n    {\n      \"column\": \"title\",\n      \"properties\": {\n        \"dtype\": \"string\",\n        \"num_unique_values\": 44561,\n        \"samples\": [\n          \"Feedback\",\n          \"My First Dinosaur Board Book\",\n          \"Introduction to Data Mining\"\n        ],\n        \"semantic_type\": \"\",\n        \"description\": \"\"\n      }\n    },\n    {\n      \"column\": \"totalratings\",\n      \"properties\": {\n        \"dtype\": \"number\",\n        \"std\": 37726,\n        \"min\": 0,\n        \"max\": 3819326,\n        \"num_unique_values\": 6889,\n        \"samples\": [\n          1495,\n          1804,\n          2679\n        ],\n        \"semantic_type\": \"\",\n        \"description\": \"\"\n      }\n    }\n  ]\n}"
            }
          },
          "metadata": {},
          "execution_count": 2
        }
      ]
    },
    {
      "cell_type": "code",
      "source": [
        "# Substituir strings vazias por NaN, para reconhecer como valor ausente\n",
        "df = df.replace('', np.nan)"
      ],
      "metadata": {
        "id": "YsXoGiWi9_jn"
      },
      "execution_count": 3,
      "outputs": []
    },
    {
      "cell_type": "markdown",
      "source": [
        "Limpando duplicatas"
      ],
      "metadata": {
        "id": "tfHaZYmC2Mcw"
      }
    },
    {
      "cell_type": "code",
      "source": [
        "# Contar duplicatas\n",
        "print(\"Duplicatas antes:\", df.duplicated().sum())\n",
        "\n",
        "# Remover duplicatas\n",
        "df.drop_duplicates(inplace=True)\n",
        "\n",
        "# Verificar o resultado\n",
        "print(\"Duplicatas depois:\", df.duplicated().sum())\n"
      ],
      "metadata": {
        "colab": {
          "base_uri": "https://localhost:8080/"
        },
        "id": "Fk-FAZW92AlS",
        "outputId": "3c755604-707c-45a6-9ecf-70e92d20885a"
      },
      "execution_count": 4,
      "outputs": [
        {
          "output_type": "stream",
          "name": "stdout",
          "text": [
            "Duplicatas antes: 0\n",
            "Duplicatas depois: 0\n"
          ]
        }
      ]
    },
    {
      "cell_type": "markdown",
      "source": [
        "Limpando valores ausentes"
      ],
      "metadata": {
        "id": "vNmR6Rbn2VKU"
      }
    },
    {
      "cell_type": "code",
      "source": [
        "# Verificar quantos valores ausentes há em cada coluna\n",
        "missing_values = df.isnull().sum()\n",
        "print(missing_values)\n"
      ],
      "metadata": {
        "colab": {
          "base_uri": "https://localhost:8080/"
        },
        "id": "BFMUgnIq2Vcy",
        "outputId": "ee0ea1d8-d6eb-4059-b2ee-06f2db666de2"
      },
      "execution_count": 5,
      "outputs": [
        {
          "output_type": "stream",
          "name": "stdout",
          "text": [
            "author             0\n",
            "bookformat      1466\n",
            "desc            2995\n",
            "genre           4229\n",
            "img             1338\n",
            "isbn            5629\n",
            "isbn13          4329\n",
            "link               0\n",
            "pages              0\n",
            "rating             0\n",
            "reviews            0\n",
            "title              0\n",
            "totalratings       0\n",
            "dtype: int64\n"
          ]
        }
      ]
    },
    {
      "cell_type": "code",
      "source": [
        "# Remover as linhas com valores ausentes em 'title', 'rating', 'reviews' e 'totalratings'\n",
        "df = df.dropna(subset=['title', 'rating', 'reviews', 'totalratings'])\n",
        "\n",
        "# Preencher valores ausentes com valores padrão\n",
        "df['bookformat'] = df['bookformat'].fillna('Desconhecido')\n",
        "df['desc'] = df['desc'].fillna('Descrição não fornecida')\n",
        "df['genre'] = df['genre'].fillna('Gênero desconhecido')\n",
        "df['img'] = df['img'].fillna('Imagem não fornecida')\n",
        "df['isbn'] = df['isbn'].fillna('ISBN não fornecido')\n",
        "df['isbn13'] = df['isbn13'].fillna('ISBN13 não fornecido')\n",
        "df['link'] = df['link'].fillna('Link não fornecido')\n",
        "df['pages'] = df['pages'].fillna('Páginas desconhecidas')\n",
        "\n",
        "# Verificar se ainda há valores ausentes\n",
        "print(df.isnull().sum())\n",
        "\n",
        "# Remover duplicatas\n",
        "df = df.drop_duplicates()\n",
        "\n",
        "# Verificar o número de linhas após as mudanças\n",
        "print(f\"Número de linhas após tratamento de valores ausentes: {df.shape[0]}\")\n"
      ],
      "metadata": {
        "colab": {
          "base_uri": "https://localhost:8080/"
        },
        "id": "mVNdTwQM2Y0N",
        "outputId": "765ab976-846a-4d2e-b23c-ed96f551a9e7"
      },
      "execution_count": 6,
      "outputs": [
        {
          "output_type": "stream",
          "name": "stdout",
          "text": [
            "author          0\n",
            "bookformat      0\n",
            "desc            0\n",
            "genre           0\n",
            "img             0\n",
            "isbn            0\n",
            "isbn13          0\n",
            "link            0\n",
            "pages           0\n",
            "rating          0\n",
            "reviews         0\n",
            "title           0\n",
            "totalratings    0\n",
            "dtype: int64\n",
            "Número de linhas após tratamento de valores ausentes: 45211\n"
          ]
        }
      ]
    },
    {
      "cell_type": "code",
      "source": [
        "# Exibir informações do DataFrame para confirmar a limpeza\n",
        "print(df.info())\n",
        "# Exibir as primeiras linhas do DataFrame para uma revisão visual\n",
        "df.head()\n"
      ],
      "metadata": {
        "colab": {
          "base_uri": "https://localhost:8080/",
          "height": 919
        },
        "id": "fJRyQHHu-cFH",
        "outputId": "89e36f31-23be-4a74-d787-343b9518131e"
      },
      "execution_count": 7,
      "outputs": [
        {
          "output_type": "stream",
          "name": "stdout",
          "text": [
            "<class 'pandas.core.frame.DataFrame'>\n",
            "RangeIndex: 45211 entries, 0 to 45210\n",
            "Data columns (total 13 columns):\n",
            " #   Column        Non-Null Count  Dtype  \n",
            "---  ------        --------------  -----  \n",
            " 0   author        45211 non-null  object \n",
            " 1   bookformat    45211 non-null  object \n",
            " 2   desc          45211 non-null  object \n",
            " 3   genre         45211 non-null  object \n",
            " 4   img           45211 non-null  object \n",
            " 5   isbn          45211 non-null  object \n",
            " 6   isbn13        45211 non-null  object \n",
            " 7   link          45211 non-null  object \n",
            " 8   pages         45211 non-null  int64  \n",
            " 9   rating        45211 non-null  float64\n",
            " 10  reviews       45211 non-null  int64  \n",
            " 11  title         45211 non-null  object \n",
            " 12  totalratings  45211 non-null  int64  \n",
            "dtypes: float64(1), int64(3), object(9)\n",
            "memory usage: 4.5+ MB\n",
            "None\n"
          ]
        },
        {
          "output_type": "execute_result",
          "data": {
            "text/plain": [
              "                             author    bookformat  \\\n",
              "0              Laurence M. Hauptman     Hardcover   \n",
              "1  Charlotte Fiell,Emmanuelle Dirix     Paperback   \n",
              "2                     Andy Anderson     Paperback   \n",
              "3              Carlotta R. Anderson     Hardcover   \n",
              "4                     Jean Leveille  Desconhecido   \n",
              "\n",
              "                                                desc  \\\n",
              "0  Reveals that several hundred thousand Indians ...   \n",
              "1  Fashion Sourcebook - 1920s is the first book i...   \n",
              "2  The seminal history and analysis of the Hungar...   \n",
              "3  \"All-American Anarchist\" chronicles the life a...   \n",
              "4  Aujourdâ€™hui, lâ€™oiseau nous invite Ã  sa ta...   \n",
              "\n",
              "                                               genre  \\\n",
              "0  History,Military History,Civil War,American Hi...   \n",
              "1          Couture,Fashion,Historical,Art,Nonfiction   \n",
              "2                                   Politics,History   \n",
              "3                                      Labor,History   \n",
              "4                                Gênero desconhecido   \n",
              "\n",
              "                                                 img        isbn  \\\n",
              "0  https://i.gr-assets.com/images/S/compressed.ph...  002914180X   \n",
              "1  https://i.gr-assets.com/images/S/compressed.ph...  1906863482   \n",
              "2  https://i.gr-assets.com/images/S/compressed.ph...   948984147   \n",
              "3  https://i.gr-assets.com/images/S/compressed.ph...   814327079   \n",
              "4  https://i.gr-assets.com/images/S/compressed.ph...  2761920813   \n",
              "\n",
              "                 isbn13                                               link  \\\n",
              "0              9.78E+12  https://goodreads.com/book/show/1001053.Betwee...   \n",
              "1              9.78E+12  https://goodreads.com/book/show/10010552-fashi...   \n",
              "2              9.78E+12  https://goodreads.com/book/show/1001077.Hungar...   \n",
              "3              9.78E+12  https://goodreads.com/book/show/1001079.All_Am...   \n",
              "4  ISBN13 não fornecido  https://goodreads.com/book/show/10010880-les-o...   \n",
              "\n",
              "   pages  rating  reviews                                              title  \\\n",
              "0      0    3.52        5  Between Two Fires: American Indians in the Civ...   \n",
              "1    576    4.51        6                           Fashion Sourcebook 1920s   \n",
              "2    124    4.15        2                                         Hungary 56   \n",
              "3    324    3.83        1  All-American Anarchist: Joseph A. Labadie and ...   \n",
              "4    177    4.00        1                              Les oiseaux gourmands   \n",
              "\n",
              "   totalratings  \n",
              "0            33  \n",
              "1            41  \n",
              "2            26  \n",
              "3             6  \n",
              "4             1  "
            ],
            "text/html": [
              "\n",
              "  <div id=\"df-821eeacb-9809-4fa4-9bee-e9aa1040fc46\" class=\"colab-df-container\">\n",
              "    <div>\n",
              "<style scoped>\n",
              "    .dataframe tbody tr th:only-of-type {\n",
              "        vertical-align: middle;\n",
              "    }\n",
              "\n",
              "    .dataframe tbody tr th {\n",
              "        vertical-align: top;\n",
              "    }\n",
              "\n",
              "    .dataframe thead th {\n",
              "        text-align: right;\n",
              "    }\n",
              "</style>\n",
              "<table border=\"1\" class=\"dataframe\">\n",
              "  <thead>\n",
              "    <tr style=\"text-align: right;\">\n",
              "      <th></th>\n",
              "      <th>author</th>\n",
              "      <th>bookformat</th>\n",
              "      <th>desc</th>\n",
              "      <th>genre</th>\n",
              "      <th>img</th>\n",
              "      <th>isbn</th>\n",
              "      <th>isbn13</th>\n",
              "      <th>link</th>\n",
              "      <th>pages</th>\n",
              "      <th>rating</th>\n",
              "      <th>reviews</th>\n",
              "      <th>title</th>\n",
              "      <th>totalratings</th>\n",
              "    </tr>\n",
              "  </thead>\n",
              "  <tbody>\n",
              "    <tr>\n",
              "      <th>0</th>\n",
              "      <td>Laurence M. Hauptman</td>\n",
              "      <td>Hardcover</td>\n",
              "      <td>Reveals that several hundred thousand Indians ...</td>\n",
              "      <td>History,Military History,Civil War,American Hi...</td>\n",
              "      <td>https://i.gr-assets.com/images/S/compressed.ph...</td>\n",
              "      <td>002914180X</td>\n",
              "      <td>9.78E+12</td>\n",
              "      <td>https://goodreads.com/book/show/1001053.Betwee...</td>\n",
              "      <td>0</td>\n",
              "      <td>3.52</td>\n",
              "      <td>5</td>\n",
              "      <td>Between Two Fires: American Indians in the Civ...</td>\n",
              "      <td>33</td>\n",
              "    </tr>\n",
              "    <tr>\n",
              "      <th>1</th>\n",
              "      <td>Charlotte Fiell,Emmanuelle Dirix</td>\n",
              "      <td>Paperback</td>\n",
              "      <td>Fashion Sourcebook - 1920s is the first book i...</td>\n",
              "      <td>Couture,Fashion,Historical,Art,Nonfiction</td>\n",
              "      <td>https://i.gr-assets.com/images/S/compressed.ph...</td>\n",
              "      <td>1906863482</td>\n",
              "      <td>9.78E+12</td>\n",
              "      <td>https://goodreads.com/book/show/10010552-fashi...</td>\n",
              "      <td>576</td>\n",
              "      <td>4.51</td>\n",
              "      <td>6</td>\n",
              "      <td>Fashion Sourcebook 1920s</td>\n",
              "      <td>41</td>\n",
              "    </tr>\n",
              "    <tr>\n",
              "      <th>2</th>\n",
              "      <td>Andy Anderson</td>\n",
              "      <td>Paperback</td>\n",
              "      <td>The seminal history and analysis of the Hungar...</td>\n",
              "      <td>Politics,History</td>\n",
              "      <td>https://i.gr-assets.com/images/S/compressed.ph...</td>\n",
              "      <td>948984147</td>\n",
              "      <td>9.78E+12</td>\n",
              "      <td>https://goodreads.com/book/show/1001077.Hungar...</td>\n",
              "      <td>124</td>\n",
              "      <td>4.15</td>\n",
              "      <td>2</td>\n",
              "      <td>Hungary 56</td>\n",
              "      <td>26</td>\n",
              "    </tr>\n",
              "    <tr>\n",
              "      <th>3</th>\n",
              "      <td>Carlotta R. Anderson</td>\n",
              "      <td>Hardcover</td>\n",
              "      <td>\"All-American Anarchist\" chronicles the life a...</td>\n",
              "      <td>Labor,History</td>\n",
              "      <td>https://i.gr-assets.com/images/S/compressed.ph...</td>\n",
              "      <td>814327079</td>\n",
              "      <td>9.78E+12</td>\n",
              "      <td>https://goodreads.com/book/show/1001079.All_Am...</td>\n",
              "      <td>324</td>\n",
              "      <td>3.83</td>\n",
              "      <td>1</td>\n",
              "      <td>All-American Anarchist: Joseph A. Labadie and ...</td>\n",
              "      <td>6</td>\n",
              "    </tr>\n",
              "    <tr>\n",
              "      <th>4</th>\n",
              "      <td>Jean Leveille</td>\n",
              "      <td>Desconhecido</td>\n",
              "      <td>Aujourdâ€™hui, lâ€™oiseau nous invite Ã  sa ta...</td>\n",
              "      <td>Gênero desconhecido</td>\n",
              "      <td>https://i.gr-assets.com/images/S/compressed.ph...</td>\n",
              "      <td>2761920813</td>\n",
              "      <td>ISBN13 não fornecido</td>\n",
              "      <td>https://goodreads.com/book/show/10010880-les-o...</td>\n",
              "      <td>177</td>\n",
              "      <td>4.00</td>\n",
              "      <td>1</td>\n",
              "      <td>Les oiseaux gourmands</td>\n",
              "      <td>1</td>\n",
              "    </tr>\n",
              "  </tbody>\n",
              "</table>\n",
              "</div>\n",
              "    <div class=\"colab-df-buttons\">\n",
              "\n",
              "  <div class=\"colab-df-container\">\n",
              "    <button class=\"colab-df-convert\" onclick=\"convertToInteractive('df-821eeacb-9809-4fa4-9bee-e9aa1040fc46')\"\n",
              "            title=\"Convert this dataframe to an interactive table.\"\n",
              "            style=\"display:none;\">\n",
              "\n",
              "  <svg xmlns=\"http://www.w3.org/2000/svg\" height=\"24px\" viewBox=\"0 -960 960 960\">\n",
              "    <path d=\"M120-120v-720h720v720H120Zm60-500h600v-160H180v160Zm220 220h160v-160H400v160Zm0 220h160v-160H400v160ZM180-400h160v-160H180v160Zm440 0h160v-160H620v160ZM180-180h160v-160H180v160Zm440 0h160v-160H620v160Z\"/>\n",
              "  </svg>\n",
              "    </button>\n",
              "\n",
              "  <style>\n",
              "    .colab-df-container {\n",
              "      display:flex;\n",
              "      gap: 12px;\n",
              "    }\n",
              "\n",
              "    .colab-df-convert {\n",
              "      background-color: #E8F0FE;\n",
              "      border: none;\n",
              "      border-radius: 50%;\n",
              "      cursor: pointer;\n",
              "      display: none;\n",
              "      fill: #1967D2;\n",
              "      height: 32px;\n",
              "      padding: 0 0 0 0;\n",
              "      width: 32px;\n",
              "    }\n",
              "\n",
              "    .colab-df-convert:hover {\n",
              "      background-color: #E2EBFA;\n",
              "      box-shadow: 0px 1px 2px rgba(60, 64, 67, 0.3), 0px 1px 3px 1px rgba(60, 64, 67, 0.15);\n",
              "      fill: #174EA6;\n",
              "    }\n",
              "\n",
              "    .colab-df-buttons div {\n",
              "      margin-bottom: 4px;\n",
              "    }\n",
              "\n",
              "    [theme=dark] .colab-df-convert {\n",
              "      background-color: #3B4455;\n",
              "      fill: #D2E3FC;\n",
              "    }\n",
              "\n",
              "    [theme=dark] .colab-df-convert:hover {\n",
              "      background-color: #434B5C;\n",
              "      box-shadow: 0px 1px 3px 1px rgba(0, 0, 0, 0.15);\n",
              "      filter: drop-shadow(0px 1px 2px rgba(0, 0, 0, 0.3));\n",
              "      fill: #FFFFFF;\n",
              "    }\n",
              "  </style>\n",
              "\n",
              "    <script>\n",
              "      const buttonEl =\n",
              "        document.querySelector('#df-821eeacb-9809-4fa4-9bee-e9aa1040fc46 button.colab-df-convert');\n",
              "      buttonEl.style.display =\n",
              "        google.colab.kernel.accessAllowed ? 'block' : 'none';\n",
              "\n",
              "      async function convertToInteractive(key) {\n",
              "        const element = document.querySelector('#df-821eeacb-9809-4fa4-9bee-e9aa1040fc46');\n",
              "        const dataTable =\n",
              "          await google.colab.kernel.invokeFunction('convertToInteractive',\n",
              "                                                    [key], {});\n",
              "        if (!dataTable) return;\n",
              "\n",
              "        const docLinkHtml = 'Like what you see? Visit the ' +\n",
              "          '<a target=\"_blank\" href=https://colab.research.google.com/notebooks/data_table.ipynb>data table notebook</a>'\n",
              "          + ' to learn more about interactive tables.';\n",
              "        element.innerHTML = '';\n",
              "        dataTable['output_type'] = 'display_data';\n",
              "        await google.colab.output.renderOutput(dataTable, element);\n",
              "        const docLink = document.createElement('div');\n",
              "        docLink.innerHTML = docLinkHtml;\n",
              "        element.appendChild(docLink);\n",
              "      }\n",
              "    </script>\n",
              "  </div>\n",
              "\n",
              "\n",
              "<div id=\"df-1c67e473-eeb9-4c1f-8679-63331f79ba50\">\n",
              "  <button class=\"colab-df-quickchart\" onclick=\"quickchart('df-1c67e473-eeb9-4c1f-8679-63331f79ba50')\"\n",
              "            title=\"Suggest charts\"\n",
              "            style=\"display:none;\">\n",
              "\n",
              "<svg xmlns=\"http://www.w3.org/2000/svg\" height=\"24px\"viewBox=\"0 0 24 24\"\n",
              "     width=\"24px\">\n",
              "    <g>\n",
              "        <path d=\"M19 3H5c-1.1 0-2 .9-2 2v14c0 1.1.9 2 2 2h14c1.1 0 2-.9 2-2V5c0-1.1-.9-2-2-2zM9 17H7v-7h2v7zm4 0h-2V7h2v10zm4 0h-2v-4h2v4z\"/>\n",
              "    </g>\n",
              "</svg>\n",
              "  </button>\n",
              "\n",
              "<style>\n",
              "  .colab-df-quickchart {\n",
              "      --bg-color: #E8F0FE;\n",
              "      --fill-color: #1967D2;\n",
              "      --hover-bg-color: #E2EBFA;\n",
              "      --hover-fill-color: #174EA6;\n",
              "      --disabled-fill-color: #AAA;\n",
              "      --disabled-bg-color: #DDD;\n",
              "  }\n",
              "\n",
              "  [theme=dark] .colab-df-quickchart {\n",
              "      --bg-color: #3B4455;\n",
              "      --fill-color: #D2E3FC;\n",
              "      --hover-bg-color: #434B5C;\n",
              "      --hover-fill-color: #FFFFFF;\n",
              "      --disabled-bg-color: #3B4455;\n",
              "      --disabled-fill-color: #666;\n",
              "  }\n",
              "\n",
              "  .colab-df-quickchart {\n",
              "    background-color: var(--bg-color);\n",
              "    border: none;\n",
              "    border-radius: 50%;\n",
              "    cursor: pointer;\n",
              "    display: none;\n",
              "    fill: var(--fill-color);\n",
              "    height: 32px;\n",
              "    padding: 0;\n",
              "    width: 32px;\n",
              "  }\n",
              "\n",
              "  .colab-df-quickchart:hover {\n",
              "    background-color: var(--hover-bg-color);\n",
              "    box-shadow: 0 1px 2px rgba(60, 64, 67, 0.3), 0 1px 3px 1px rgba(60, 64, 67, 0.15);\n",
              "    fill: var(--button-hover-fill-color);\n",
              "  }\n",
              "\n",
              "  .colab-df-quickchart-complete:disabled,\n",
              "  .colab-df-quickchart-complete:disabled:hover {\n",
              "    background-color: var(--disabled-bg-color);\n",
              "    fill: var(--disabled-fill-color);\n",
              "    box-shadow: none;\n",
              "  }\n",
              "\n",
              "  .colab-df-spinner {\n",
              "    border: 2px solid var(--fill-color);\n",
              "    border-color: transparent;\n",
              "    border-bottom-color: var(--fill-color);\n",
              "    animation:\n",
              "      spin 1s steps(1) infinite;\n",
              "  }\n",
              "\n",
              "  @keyframes spin {\n",
              "    0% {\n",
              "      border-color: transparent;\n",
              "      border-bottom-color: var(--fill-color);\n",
              "      border-left-color: var(--fill-color);\n",
              "    }\n",
              "    20% {\n",
              "      border-color: transparent;\n",
              "      border-left-color: var(--fill-color);\n",
              "      border-top-color: var(--fill-color);\n",
              "    }\n",
              "    30% {\n",
              "      border-color: transparent;\n",
              "      border-left-color: var(--fill-color);\n",
              "      border-top-color: var(--fill-color);\n",
              "      border-right-color: var(--fill-color);\n",
              "    }\n",
              "    40% {\n",
              "      border-color: transparent;\n",
              "      border-right-color: var(--fill-color);\n",
              "      border-top-color: var(--fill-color);\n",
              "    }\n",
              "    60% {\n",
              "      border-color: transparent;\n",
              "      border-right-color: var(--fill-color);\n",
              "    }\n",
              "    80% {\n",
              "      border-color: transparent;\n",
              "      border-right-color: var(--fill-color);\n",
              "      border-bottom-color: var(--fill-color);\n",
              "    }\n",
              "    90% {\n",
              "      border-color: transparent;\n",
              "      border-bottom-color: var(--fill-color);\n",
              "    }\n",
              "  }\n",
              "</style>\n",
              "\n",
              "  <script>\n",
              "    async function quickchart(key) {\n",
              "      const quickchartButtonEl =\n",
              "        document.querySelector('#' + key + ' button');\n",
              "      quickchartButtonEl.disabled = true;  // To prevent multiple clicks.\n",
              "      quickchartButtonEl.classList.add('colab-df-spinner');\n",
              "      try {\n",
              "        const charts = await google.colab.kernel.invokeFunction(\n",
              "            'suggestCharts', [key], {});\n",
              "      } catch (error) {\n",
              "        console.error('Error during call to suggestCharts:', error);\n",
              "      }\n",
              "      quickchartButtonEl.classList.remove('colab-df-spinner');\n",
              "      quickchartButtonEl.classList.add('colab-df-quickchart-complete');\n",
              "    }\n",
              "    (() => {\n",
              "      let quickchartButtonEl =\n",
              "        document.querySelector('#df-1c67e473-eeb9-4c1f-8679-63331f79ba50 button');\n",
              "      quickchartButtonEl.style.display =\n",
              "        google.colab.kernel.accessAllowed ? 'block' : 'none';\n",
              "    })();\n",
              "  </script>\n",
              "</div>\n",
              "\n",
              "    </div>\n",
              "  </div>\n"
            ],
            "application/vnd.google.colaboratory.intrinsic+json": {
              "type": "dataframe",
              "variable_name": "df",
              "summary": "{\n  \"name\": \"df\",\n  \"rows\": 45211,\n  \"fields\": [\n    {\n      \"column\": \"author\",\n      \"properties\": {\n        \"dtype\": \"string\",\n        \"num_unique_values\": 34491,\n        \"samples\": [\n          \"Ralph A. Austen\",\n          \"Helen  Douglas\",\n          \"Balmer H. Kelly\"\n        ],\n        \"semantic_type\": \"\",\n        \"description\": \"\"\n      }\n    },\n    {\n      \"column\": \"bookformat\",\n      \"properties\": {\n        \"dtype\": \"category\",\n        \"num_unique_values\": 124,\n        \"samples\": [\n          \"Boxed set\",\n          \"Flexibound\",\n          \"Spiral\"\n        ],\n        \"semantic_type\": \"\",\n        \"description\": \"\"\n      }\n    },\n    {\n      \"column\": \"desc\",\n      \"properties\": {\n        \"dtype\": \"string\",\n        \"num_unique_values\": 41870,\n        \"samples\": [\n          \"His sister's first day of school is Tom's last day of true independence. ,On her first day of kindergarten, Alice isn't really that nervous at all. It's her brother, Tom, who is upset -- in fact, he's downright mad! It's his school, and why should he have to share it with his annoying little sister? ,For any family dealing with first day nerves, this bright and reassuring picture book will help ease the transition into school -- both for new students and their older siblings. \",\n          \"Capitalism faltered at the end of the 1990s as corporations were rocked by fraud, the stock-market bubble burst and the American business model \\u00e2\\u20ac\\u201c unfettered self-interest, privatization and low tax \\u00e2\\u20ac\\u201c faced a storm of protest. But what are the alternatives to the mantras of market fundamentalism? Leading economist John Kay unravels the truth about markets, from Wall Street to Switzerland, from Russia to Mumbai, examining why some nations are rich and some poor, why \\u00e2\\u20ac\\u02dcone-size-fits-all\\u00e2\\u20ac\\u2122 globalization hurts developing countries and why markets can work \\u00e2\\u20ac\\u201c but only in a humane social and cultural context. His answers offer a radical new blueprint for the future.\",\n          \"Augie comes on stage with one of literature\\u00e2\\u20ac\\u2122s most famous opening lines. \\u00e2\\u20ac\\u0153I am an American, Chicago born, and go at things as I have taught myself, free-style, and will make the record in my own way: first to knock, first admitted.\\u00e2\\u20ac\\u009d It\\u00e2\\u20ac\\u2122s the \\u00e2\\u20ac\\u0153Call me Ishmael\\u00e2\\u20ac\\u009d of mid-20th-century American fiction. (For the record, Bellow was born in Canada.) Or it would be if Ishmael had been more like Tom Jones with a philosophical disposition. With this teeming book Bellow returned a Dickensian richness to the American novel. As he makes his way to a full brimming consciousness of himself, Augie careens himself through numberless occupations, and countless mentors and exemplars, all the while enchanting us with the slapdash American music of his voice.\"\n        ],\n        \"semantic_type\": \"\",\n        \"description\": \"\"\n      }\n    },\n    {\n      \"column\": \"genre\",\n      \"properties\": {\n        \"dtype\": \"string\",\n        \"num_unique_values\": 34446,\n        \"samples\": [\n          \"Romance,M M Romance,Fantasy,Paranormal,Paranormal,Shapeshifters,Romance,Fantasy,Fantasy,Magic,M M Romance,M M Paranormal,Adult Fiction,Erotica,LGBT,Gay,LGBT\",\n          \"Science Fiction,Fiction,Science Fiction Fantasy,Apocalyptic,Post Apocalyptic\",\n          \"Sequential Art,Comics,Sequential Art,Graphic Novels,Superheroes,Marvel,Comics,Comic Book,Mystery,Crime,Graphic Novels Comics,Comics,Superheroes,Fiction,Action,War\"\n        ],\n        \"semantic_type\": \"\",\n        \"description\": \"\"\n      }\n    },\n    {\n      \"column\": \"img\",\n      \"properties\": {\n        \"dtype\": \"string\",\n        \"num_unique_values\": 43874,\n        \"samples\": [\n          \"https://i.gr-assets.com/images/S/compressed.photo.goodreads.com/books/1331207806l/10387973.jpg\",\n          \"https://i.gr-assets.com/images/S/compressed.photo.goodreads.com/books/1306708633l/11490434.jpg\",\n          \"https://i.gr-assets.com/images/S/compressed.photo.goodreads.com/books/1517251582l/1225585._SY475_.jpg\"\n        ],\n        \"semantic_type\": \"\",\n        \"description\": \"\"\n      }\n    },\n    {\n      \"column\": \"isbn\",\n      \"properties\": {\n        \"dtype\": \"string\",\n        \"num_unique_values\": 39583,\n        \"samples\": [\n          \"078514840X\",\n          \"517206064\",\n          \"080213064X\"\n        ],\n        \"semantic_type\": \"\",\n        \"description\": \"\"\n      }\n    },\n    {\n      \"column\": \"isbn13\",\n      \"properties\": {\n        \"dtype\": \"category\",\n        \"num_unique_values\": 107,\n        \"samples\": [\n          \"195089200\",\n          \"7.54E+11\",\n          \"2.94E+12\"\n        ],\n        \"semantic_type\": \"\",\n        \"description\": \"\"\n      }\n    },\n    {\n      \"column\": \"link\",\n      \"properties\": {\n        \"dtype\": \"string\",\n        \"num_unique_values\": 45211,\n        \"samples\": [\n          \"https://goodreads.com/book/show/10262901-cheeky\",\n          \"https://goodreads.com/book/show/106547.The_Dangerous_Lord\",\n          \"https://goodreads.com/book/show/1233859.The_Door\"\n        ],\n        \"semantic_type\": \"\",\n        \"description\": \"\"\n      }\n    },\n    {\n      \"column\": \"pages\",\n      \"properties\": {\n        \"dtype\": \"number\",\n        \"std\": 468,\n        \"min\": 0,\n        \"max\": 70000,\n        \"num_unique_values\": 1130,\n        \"samples\": [\n          411,\n          629,\n          734\n        ],\n        \"semantic_type\": \"\",\n        \"description\": \"\"\n      }\n    },\n    {\n      \"column\": \"rating\",\n      \"properties\": {\n        \"dtype\": \"number\",\n        \"std\": 0.5821220338962888,\n        \"min\": 0.0,\n        \"max\": 5.0,\n        \"num_unique_values\": 270,\n        \"samples\": [\n          4.29,\n          4.45,\n          4.42\n        ],\n        \"semantic_type\": \"\",\n        \"description\": \"\"\n      }\n    },\n    {\n      \"column\": \"reviews\",\n      \"properties\": {\n        \"dtype\": \"number\",\n        \"std\": 1499,\n        \"min\": 0,\n        \"max\": 158776,\n        \"num_unique_values\": 1962,\n        \"samples\": [\n          11313,\n          172,\n          5523\n        ],\n        \"semantic_type\": \"\",\n        \"description\": \"\"\n      }\n    },\n    {\n      \"column\": \"title\",\n      \"properties\": {\n        \"dtype\": \"string\",\n        \"num_unique_values\": 44561,\n        \"samples\": [\n          \"Feedback\",\n          \"My First Dinosaur Board Book\",\n          \"Introduction to Data Mining\"\n        ],\n        \"semantic_type\": \"\",\n        \"description\": \"\"\n      }\n    },\n    {\n      \"column\": \"totalratings\",\n      \"properties\": {\n        \"dtype\": \"number\",\n        \"std\": 37726,\n        \"min\": 0,\n        \"max\": 3819326,\n        \"num_unique_values\": 6889,\n        \"samples\": [\n          1495,\n          1804,\n          2679\n        ],\n        \"semantic_type\": \"\",\n        \"description\": \"\"\n      }\n    }\n  ]\n}"
            }
          },
          "metadata": {},
          "execution_count": 7
        }
      ]
    },
    {
      "cell_type": "markdown",
      "source": [
        "# Análise exploratória dos dados"
      ],
      "metadata": {
        "id": "oggTcZgVLWVw"
      }
    },
    {
      "cell_type": "code",
      "source": [
        "import matplotlib.pyplot as plt\n",
        "import seaborn as sns"
      ],
      "metadata": {
        "id": "9JuDMzbtLb_9"
      },
      "execution_count": 8,
      "outputs": []
    },
    {
      "cell_type": "markdown",
      "source": [
        "Distribuição dos Ratings"
      ],
      "metadata": {
        "id": "79yCQ_znLfdt"
      }
    },
    {
      "cell_type": "code",
      "source": [
        "plt.figure(figsize=(10, 6))\n",
        "sns.histplot(df['rating'], bins=30, kde=True, color='skyblue', edgecolor='black')\n",
        "plt.title('Distribuição das Classificações dos Livros')\n",
        "plt.xlabel('Classificação')\n",
        "plt.ylabel('Frequência')\n",
        "plt.grid(True)\n",
        "plt.show()\n"
      ],
      "metadata": {
        "colab": {
          "base_uri": "https://localhost:8080/",
          "height": 564
        },
        "id": "wt1-coVGLZgd",
        "outputId": "5965cf15-31c9-422f-faa1-ee60e2c1215b"
      },
      "execution_count": 9,
      "outputs": [
        {
          "output_type": "display_data",
          "data": {
            "text/plain": [
              "<Figure size 1000x600 with 1 Axes>"
            ],
            "image/png": "[encoded data removed]"
          },
          "metadata": {}
        }
      ]
    },
    {
      "cell_type": "markdown",
      "source": [
        "Gêneros mais comuns"
      ],
      "metadata": {
        "id": "BVroc2-FLri4"
      }
    },
    {
      "cell_type": "code",
      "source": [
        "# Remover o \"Gênero desconhecido\" antes de plotar\n",
        "genre_counts = df[df['genre'] != 'Gênero desconhecido']['genre'].value_counts().head(10)\n",
        "\n",
        "# Visualizando os 10 gêneros mais populares com o ajuste de 'hue' e 'legend'\n",
        "plt.figure(figsize=(10, 6))\n",
        "sns.barplot(x=genre_counts.values, y=genre_counts.index, palette='viridis', hue=genre_counts.index, dodge=False)\n",
        "plt.title('Top 10 Gêneros Mais Populares')\n",
        "plt.xlabel('Número de Livros')\n",
        "plt.ylabel('Gênero')\n",
        "plt.legend([],[], frameon=False)  # Remover a legenda\n",
        "plt.show()\n"
      ],
      "metadata": {
        "colab": {
          "base_uri": "https://localhost:8080/",
          "height": 565
        },
        "id": "E3MbIOvuLr0M",
        "outputId": "d63ea0ab-16d4-4d88-b4bd-fd9408cba4c5"
      },
      "execution_count": 15,
      "outputs": [
        {
          "output_type": "display_data",
          "data": {
            "text/plain": [
              "<Figure size 1000x600 with 1 Axes>"
            ],
            "image/png": "[encoded data removed]"
          },
          "metadata": {}
        }
      ]
    },
    {
      "cell_type": "markdown",
      "source": [
        "Autores mais populares"
      ],
      "metadata": {
        "id": "sq660ALqMMlq"
      }
    },
    {
      "cell_type": "code",
      "source": [
        "author_counts = df['author'].value_counts().head(10)\n",
        "\n",
        "# Visualizando os 10 autores mais populares\n",
        "plt.figure(figsize=(10, 6))\n",
        "sns.barplot(x=author_counts.values, y=author_counts.index, palette='viridis', hue=genre_counts.index, dodge=False)\n",
        "plt.title('Top 10 Autores Mais Populares')\n",
        "plt.xlabel('Número de Livros')\n",
        "plt.ylabel('Autor')\n",
        "plt.show()\n"
      ],
      "metadata": {
        "colab": {
          "base_uri": "https://localhost:8080/",
          "height": 564
        },
        "id": "mEn5b7JgMIfS",
        "outputId": "baea51a2-5527-498b-c720-ca15877004cf"
      },
      "execution_count": 16,
      "outputs": [
        {
          "output_type": "display_data",
          "data": {
            "text/plain": [
              "<Figure size 1000x600 with 1 Axes>"
            ],
            "image/png": "[encoded data removed]"
          },
          "metadata": {}
        }
      ]
    },
    {
      "cell_type": "markdown",
      "source": [
        "Livros com maior e menor média de avaliação"
      ],
      "metadata": {
        "id": "fFYhejDeMZbS"
      }
    },
    {
      "cell_type": "code",
      "source": [
        "# Top 10 livros mais bem avaliados\n",
        "top_rated_books = df[['title', 'rating']].sort_values(by='rating', ascending=False).head(10)\n",
        "\n",
        "# 10 livros de pior avaliação\n",
        "bottom_rated_books = df[['title', 'rating']].sort_values(by='rating', ascending=True).head(10)\n",
        "\n",
        "print(\"Top 10 Livros Mais Bem Avaliados:\")\n",
        "print(top_rated_books)\n",
        "\n",
        "print(\"\\n10 Livros de pior Avaliação:\")\n",
        "print(bottom_rated_books)\n"
      ],
      "metadata": {
        "colab": {
          "base_uri": "https://localhost:8080/"
        },
        "id": "Rl8ITyS6RgMr",
        "outputId": "00a1fb3c-914e-4e0d-cc74-003f7cd674fb"
      },
      "execution_count": 23,
      "outputs": [
        {
          "output_type": "stream",
          "name": "stdout",
          "text": [
            "Top 10 Livros Mais Bem Avaliados:\n",
            "                                                   title  rating\n",
            "43806  The Abels -Tasmania's Mountains Over 1100m Vol...     5.0\n",
            "489    Early Anglo Saxon Art And Archaeology: Being T...     5.0\n",
            "1477   Isis on the Nile. Egyptian Gods in Hellenistic...     5.0\n",
            "20780                                  To BEE or not be?     5.0\n",
            "32021                                   Wines of Lebanon     5.0\n",
            "20781  Brauns Brauerei Atlas: Band 1: Mittelfranken u...     5.0\n",
            "20782  Brauns Brauerei Atlas: Band 2: Unterfranken un...     5.0\n",
            "33856  The Face of the Earth: Natural Landscapes, Sci...     5.0\n",
            "19723                           British Mesozoic Fossils     5.0\n",
            "42901       SÃ¤mtliche Klaviersonaten, Band Ii, (Urtext)     5.0\n",
            "\n",
            "Bottom 10 Livros Menos Avaliados:\n",
            "                                                   title  rating\n",
            "38356            Labor Embattled: History, Power, Rights     0.0\n",
            "6975   Study Guide and Working Papers to Accompany Ad...     0.0\n",
            "20085  Modern Cults: People's Temple, Manson Family, ...     0.0\n",
            "2906   Flyboys over Hampton Roads:: Glenn Curtiss's S...     0.0\n",
            "2895                                  Two Fourpenny Bits     0.0\n",
            "32351  Jaguar E Type Fifty Years Of A Design Icon: Th...     0.0\n",
            "26618                    West, East and North Lancashire     0.0\n",
            "26622                 Winter Climbs In The Lake District     0.0\n",
            "8850   El Arte Del Origami Y La Papiroflexia/ The Art...     0.0\n",
            "39566                           De geur van ieder najaar     0.0\n"
          ]
        }
      ]
    },
    {
      "cell_type": "markdown",
      "source": [
        "Livros com ao mais de 3 avaliações"
      ],
      "metadata": {
        "id": "coaknL1fRh5r"
      }
    },
    {
      "cell_type": "code",
      "source": [
        "# Filtrando os livros com mais de 3 avaliações\n",
        "filtered_books = df[df['reviews'] > 3]\n",
        "\n",
        "# Top 10 livros mais bem avaliados\n",
        "top_rated_books = filtered_books[['title', 'rating', 'reviews']].sort_values(by='rating', ascending=False).head(10)\n",
        "\n",
        "# Bottom 10 livros menos bem avaliados\n",
        "bottom_rated_books = filtered_books[['title', 'rating', 'reviews']].sort_values(by='rating').head(10)\n",
        "\n",
        "# Exibindo as tabelas dos livros mais e menos bem avaliados\n",
        "print(\"Top 10 Livros Mais Bem Avaliados:\")\n",
        "print(top_rated_books.to_string(index=False))\n",
        "\n",
        "print(\"\\ 10 Livros de pior Avaliação:\")\n",
        "print(bottom_rated_books.to_string(index=False))\n"
      ],
      "metadata": {
        "colab": {
          "base_uri": "https://localhost:8080/"
        },
        "id": "ACieYYj1QVZC",
        "outputId": "ee514937-7e69-4147-9873-c0d96543b37a"
      },
      "execution_count": 27,
      "outputs": [
        {
          "output_type": "stream",
          "name": "stdout",
          "text": [
            "Top 10 Livros Mais Bem Avaliados:\n",
            "                                                                                                                                                                                          title  rating  reviews\n",
            "                                                                                                                                                                           Living Enlightenment    4.95       74\n",
            "                                                                                                                                                               Commentary on Genesis - Volume 1    4.93        5\n",
            "                                                                                                                                                    Rejoice In My Gladness: The Life of Tahirih    4.85        4\n",
            "A Psalter for Prayer: An Adaptation of the Classic Miles Coverdale Translation, Augmented by Prayers and Instructional Material Drawn from Church Slavonic and Other Orthodox Christian Sources    4.84        6\n",
            "                                                                                                                                               Animal Skulls: A Guide to North American Species    4.81        7\n",
            "                                                                                                                                                              The Rules of Chart Interpretation    4.80        4\n",
            "                                                                                                                                                 What Every Programmer Should Know About Memory    4.80       11\n",
            "                                                                                                              The True Nature of Tarot: Your Path to Personal Empowerment (Modern Spirituality)    4.79       12\n",
            "                                                                                                                                                                       The Way of Kings, Part 2    4.79      741\n",
            "                                                                                                                                                         The Navarre Bible: Saint Mark's Gospel    4.78        4\n",
            "\\ 10 Livros de pior Avaliação:\n",
            "                                                                           title  rating  reviews\n",
            "                                                                         Stretch    1.95        5\n",
            "                                                                  Revealing Eden    2.05      368\n",
            "                                                 Sophia in the white city: novel    2.20        4\n",
            "                                                                       Supernova    2.29       10\n",
            "                                                                 Song for Eloise    2.36       15\n",
            "                                                              The Realms of Gold    2.38        6\n",
            "                                                               Falling for Henry    2.38        8\n",
            "The Many Faces of Journaling: Topics and Techniques for Personal Journal Writing    2.38        5\n",
            "                                                         Growing Up in Tier 3000    2.39        8\n",
            "                                                         Ohlasy pÃ­snÃ­ ruskÃ½ch    2.40        4\n"
          ]
        }
      ]
    },
    {
      "cell_type": "markdown",
      "source": [
        "Estatísticas descritivas"
      ],
      "metadata": {
        "id": "OcHhUgnLM3_U"
      }
    },
    {
      "cell_type": "code",
      "source": [
        "# Estatísticas descritivas para as colunas numéricas\n",
        "desc_stats = df[['rating', 'pages', 'reviews', 'totalratings']].describe()\n",
        "\n",
        "# Exibindo as estatísticas\n",
        "print(desc_stats)\n"
      ],
      "metadata": {
        "colab": {
          "base_uri": "https://localhost:8080/"
        },
        "id": "N2TaN_aFM5w6",
        "outputId": "6f485219-6e32-43fb-87a5-13442bcef95a"
      },
      "execution_count": 14,
      "outputs": [
        {
          "output_type": "stream",
          "name": "stdout",
          "text": [
            "             rating         pages        reviews  totalratings\n",
            "count  45211.000000  45211.000000   45211.000000  4.521100e+04\n",
            "mean       3.839172    259.452832     178.648581  3.129072e+03\n",
            "std        0.582122    468.413522    1499.208405  3.772687e+04\n",
            "min        0.000000      0.000000       0.000000  0.000000e+00\n",
            "25%        3.670000    142.000000       3.000000  3.400000e+01\n",
            "50%        3.910000    240.000000      15.000000  1.550000e+02\n",
            "75%        4.130000    336.000000      67.000000  7.910000e+02\n",
            "max        5.000000  70000.000000  158776.000000  3.819326e+06\n"
          ]
        }
      ]
    }
  ]
}